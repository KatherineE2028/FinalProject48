{
 "cells": [
  {
   "cell_type": "code",
   "execution_count": 8,
   "id": "85f808d0-6ee0-4560-838b-9461c55d095d",
   "metadata": {},
   "outputs": [
    {
     "name": "stdout",
     "output_type": "stream",
     "text": [
      "List of unique items:\n",
      " ['Bloomfield' 'Morningside' 'Shadyside' 'Brighton Heights' nan\n",
      " 'Central Business District' 'Larimer' 'Carrick' 'South Side Flats'\n",
      " 'Squirrel Hill North' 'Homewood North' 'Point Breeze' 'South Oakland'\n",
      " 'West Oakland' 'Homewood South' 'Central Oakland' 'Homewood West'\n",
      " 'Highland Park' 'Marshall-Shadeland' 'Greenfield' 'Knoxville'\n",
      " 'South Side Slopes' 'Beltzhoover' 'Fineview' 'Bluff'\n",
      " 'California-Kirkbride' 'Perry North' 'Crafton Heights'\n",
      " 'Spring Hill-City View' 'Strip District' 'Northview Heights' 'Sheraden'\n",
      " 'Beechview' 'Hazelwood' 'Perry South' 'Upper Lawrenceville'\n",
      " 'East Liberty' 'Westwood' 'East Hills' 'Point Breeze North' 'Fairywood'\n",
      " 'Lincoln-Lemington-Belmar' 'Squirrel Hill South' 'Stanton Heights'\n",
      " 'Middle Hill' 'Allegheny Center' 'Lincoln Place' 'Central Lawrenceville'\n",
      " 'Brookline' 'Crawford-Roberts' 'Chateau' 'North Oakland' 'North Shore'\n",
      " 'Central Northside' 'Polish Hill' 'Banksville' 'Bedford Dwellings'\n",
      " 'Mount Washington' 'Terrace Village' 'Oakwood' 'St. Clair' 'Bon Air'\n",
      " 'East Allegheny' 'Manchester' 'Garfield' 'South Shore' 'Upper Hill'\n",
      " 'Lower Lawrenceville' 'Ridgemont' 'Allentown' 'Glen Hazel'\n",
      " 'New Homestead' 'Swisshelm Park' 'Troy Hill' 'Chartiers City'\n",
      " 'Friendship' 'Elliott' 'Arlington' 'West End' 'Overbrook' 'Windgap'\n",
      " 'Duquesne Heights' 'Spring Garden' 'Esplen' 'Regent Square' 'Mt. Oliver'\n",
      " 'Summer Hill' 'Allegheny West' 'East Carnegie' 'Mount Oliver Borough'\n",
      " 'Hays' 'Arlington Heights']\n"
     ]
    }
   ],
   "source": [
    "import pandas as pd\n",
    "\n",
    "fires_data = pd.read_csv(\"Fires.tsv\", sep='\\t')\n",
    "unique_neighborhoods = fires_data['neighborhood'].unique()\n",
    "print(\"List of unique items:\\n\", unique_neighborhoods)"
   ]
  },
  {
   "cell_type": "code",
   "execution_count": 7,
   "id": "e0acde2a-66dc-4d84-ac71-86152310006a",
   "metadata": {},
   "outputs": [
    {
     "name": "stdout",
     "output_type": "stream",
     "text": [
      "                 Neighborhood  Count\n",
      "0               Regent Square      9\n",
      "1               East Carnegie     11\n",
      "2                   Ridgemont     12\n",
      "3           Arlington Heights     13\n",
      "4                     Oakwood     13\n",
      "5                   St. Clair     14\n",
      "6              Swisshelm Park     17\n",
      "7                  Mt. Oliver     18\n",
      "8              Chartiers City     18\n",
      "9                  Glen Hazel     20\n",
      "10                Summer Hill     21\n",
      "11                    Bon Air     22\n",
      "12              New Homestead     22\n",
      "13                     Esplen     23\n",
      "14                   West End     23\n",
      "15                    Windgap     24\n",
      "16                       Hays     24\n",
      "17                  Fairywood     26\n",
      "18                South Shore     26\n",
      "19              Spring Garden     26\n",
      "20                   Westwood     28\n",
      "21                 Friendship     33\n",
      "22                Morningside     35\n",
      "23                Polish Hill     39\n",
      "24           Duquesne Heights     41\n",
      "25       California-Kirkbride     43\n",
      "26                    Chateau     43\n",
      "27             Allegheny West     43\n",
      "28          Bedford Dwellings     47\n",
      "29                   Fineview     50\n",
      "30                 Upper Hill     50\n",
      "31         Point Breeze North     51\n",
      "32                  Arlington     52\n",
      "33        Upper Lawrenceville     56\n",
      "34                 Banksville     60\n",
      "35                  Overbrook     61\n",
      "36            Stanton Heights     62\n",
      "37              Homewood West     63\n",
      "38           Allegheny Center     63\n",
      "39        Lower Lawrenceville     63\n",
      "40               West Oakland     64\n",
      "41          Northview Heights     67\n",
      "42              Lincoln Place     69\n",
      "43                    Elliott     72\n",
      "44               Point Breeze     72\n",
      "45             Strip District     75\n",
      "46                North Shore     77\n",
      "47              Highland Park     79\n",
      "48      Central Lawrenceville     79\n",
      "49                 Manchester     82\n",
      "50                  Troy Hill     85\n",
      "51            Crafton Heights     85\n",
      "52            Terrace Village     87\n",
      "53            Central Oakland     98\n",
      "54              South Oakland    101\n",
      "55                Middle Hill    106\n",
      "56          South Side Slopes    107\n",
      "57                Perry North    113\n",
      "58           Crawford-Roberts    114\n",
      "59      Spring Hill-City View    115\n",
      "60                   Garfield    115\n",
      "61                 Greenfield    124\n",
      "62                    Larimer    127\n",
      "63                  Allentown    130\n",
      "64              North Oakland    133\n",
      "65          Central Northside    134\n",
      "66                Beltzhoover    136\n",
      "67        Squirrel Hill North    136\n",
      "68             East Allegheny    141\n",
      "69                      Bluff    149\n",
      "70         Marshall-Shadeland    150\n",
      "71                  Beechview    155\n",
      "72           Brighton Heights    158\n",
      "73                 East Hills    160\n",
      "74                Perry South    167\n",
      "75                   Sheraden    178\n",
      "76                 Bloomfield    182\n",
      "77             Homewood North    189\n",
      "78                  Shadyside    193\n",
      "79                  Knoxville    195\n",
      "80   Lincoln-Lemington-Belmar    200\n",
      "81             Homewood South    202\n",
      "82                  Brookline    203\n",
      "83               East Liberty    220\n",
      "84           Mount Washington    231\n",
      "85                  Hazelwood    257\n",
      "86        Squirrel Hill South    268\n",
      "87           South Side Flats    289\n",
      "88  Central Business District    290\n",
      "89                    Carrick    307\n"
     ]
    }
   ],
   "source": [
    "fires_data['neighborhood'] = fires_data['neighborhood'].replace({'Mount Oliver Borough': 'Mt. Oliver'})\n",
    "neighborhood_counts = fires_data['neighborhood'].value_counts().sort_values()\n",
    "neighborhood_counts_df = neighborhood_counts.reset_index()\n",
    "neighborhood_counts_df.columns = ['Neighborhood', 'Count']\n",
    "pd.set_option('display.max_rows',None)\n",
    "\n",
    "print(neighborhood_counts_df)"
   ]
  },
  {
   "cell_type": "code",
   "execution_count": 4,
   "id": "75116e9c-4b16-4bcc-9b78-be7fd267ae32",
   "metadata": {},
   "outputs": [],
   "source": [
    "lowest_counts = neighborhood_counts.nsmallest(10).reset_index()\n",
    "lowest_counts.columns = ['Neighborhood', 'Fire Count']"
   ]
  },
  {
   "cell_type": "markdown",
   "id": "2b9da645-10aa-433c-8706-319f9eb14f8f",
   "metadata": {},
   "source": [
    "## Conclusion\n",
    "By looking through the data set and looking at the \"neighborhood\" collum, I first found each unique neighborhood and merged any that may have been referring to the same neighborhood but spelled differently. Then I counted each time a neighborhood was mentioned in the dataset to get the total count of fires that occurred in each neighborhood. After getting a count for all the neighborhoods I arranged the list to have the lowest count at the top and highest count at the bottom. This way the neighborhoods towards the top of the list can be considered safer then those located towards the bottom of the list (in terms of the amount of fires). After doing so, it was determined that the top 10 safest (in terms of fires) are as follows:"
   ]
  },
  {
   "cell_type": "code",
   "execution_count": 9,
   "id": "4517b68b-3d08-48b7-84dc-66122313d5f2",
   "metadata": {},
   "outputs": [
    {
     "name": "stdout",
     "output_type": "stream",
     "text": [
      "        Neighborhood  Fire Count\n",
      "0      Regent Square           9\n",
      "1      East Carnegie          11\n",
      "2          Ridgemont          12\n",
      "3  Arlington Heights          13\n",
      "4            Oakwood          13\n",
      "5          St. Clair          14\n",
      "6     Swisshelm Park          17\n",
      "7         Mt. Oliver          18\n",
      "8     Chartiers City          18\n",
      "9         Glen Hazel          20\n"
     ]
    }
   ],
   "source": [
    "print(lowest_counts)"
   ]
  }
 ],
 "metadata": {
  "kernelspec": {
   "display_name": "Python 3 (ipykernel)",
   "language": "python",
   "name": "python3"
  },
  "language_info": {
   "codemirror_mode": {
    "name": "ipython",
    "version": 3
   },
   "file_extension": ".py",
   "mimetype": "text/x-python",
   "name": "python",
   "nbconvert_exporter": "python",
   "pygments_lexer": "ipython3",
   "version": "3.12.4"
  }
 },
 "nbformat": 4,
 "nbformat_minor": 5
}
