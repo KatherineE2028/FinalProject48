{
 "cells": [
  {
   "cell_type": "code",
   "execution_count": 9,
   "id": "e504d1e1-191c-4257-a59e-a448a2b97c2b",
   "metadata": {},
   "outputs": [],
   "source": [
    "import pandas as pd\n",
    "arr = pd.read_csv(\"arrestdata.tsv\", sep=\"\\t\")"
   ]
  },
  {
   "cell_type": "code",
   "execution_count": 13,
   "id": "626be582-931c-457b-b443-de26f02325c1",
   "metadata": {
    "scrolled": true
   },
   "outputs": [
    {
     "name": "stdout",
     "output_type": "stream",
     "text": [
      "{'Bloomfield': 984, 'Outside City': 316, 'Westwood': 226, 'East Allegheny': 2217, 'Crafton Heights': 601, 'Greenfield': 537, 'Brookline': 1390, 'Regent Square': 37, 'East Liberty': 1889, nan: 2489, 'East Hills': 1194, 'Carrick': 2352, 'Allegheny Center': 1244, 'South Side Flats': 3497, 'Sheraden': 1285, 'East Carnegie': 48, 'Golden Triangle/Civic Arena': 83, 'Point Breeze North': 289, 'Perry South': 1057, 'Allentown': 947, 'North Shore': 814, 'Marshall-Shadeland': 1516, 'Central Oakland': 521, 'Middle Hill': 932, 'Strip District': 503, 'Lincoln-Lemington-Belmar': 1362, 'Central Northside': 23, 'Troy Hill-Herrs Island': 6, 'Highland Park': 558, 'Homewood North': 1969, 'Northview Heights': 713, 'Brighton Heights': 1114, 'Hazelwood': 1396, 'Perry North': 587, 'Bedford Dwellings': 665, 'Elliott': 663, 'Beechview': 1201, 'Fineview': 796, 'Glen Hazel': 169, 'Spring Hill-City View': 711, 'Bluff': 1502, 'Manchester': 471, 'Homewood West': 764, 'Outside County': 57, 'Point Breeze': 301, 'Homewood South': 2090, 'Squirrel Hill South': 812, 'Terrace Village': 297, 'Upper Lawrenceville': 189, 'Arlington': 312, 'South Side Slopes': 801, 'Lower Lawrenceville': 272, 'Garfield': 722, 'Lincoln Place': 227, 'Larimer': 879, 'Mount Washington': 1434, 'California-Kirkbride': 315, 'Banksville': 291, 'Bon Air': 267, 'South Shore': 301, 'Beltzhoover': 496, 'Knoxville': 1336, 'Chateau': 454, 'Crawford-Roberts': 839, 'Polish Hill': 166, 'Fairywood': 127, 'West End': 290, 'Shadyside': 971, 'Morningside': 188, 'Overbrook': 331, 'Friendship': 174, 'North Oakland': 455, 'Central Lawrenceville': 431, 'Oakwood': 82, 'Upper Hill': 370, 'South Oakland': 354, 'West Oakland': 325, 'Spring Garden': 219, 'Allegheny West': 130, 'St. Clair': 55, 'Stanton Heights': 223, 'Esplen': 200, 'Squirrel Hill North': 290, 'Mt. Oliver Neighborhood': 2, 'Summer Hill': 76, 'Arlington Heights': 155, 'Troy Hill': 437, 'Central Business District': 4440, 'Central North Side': 853, 'Mount Oliver': 124, 'Windgap': 124, 'Outside State': 67, 'Duquesne Heights': 191, 'New Homestead': 39, 'Ridgemont': 37, 'Swisshelm Park': 43, 'Hays': 120, 'Chartiers City': 46, 'Mt. Oliver Boro': 18}\n"
     ]
    }
   ],
   "source": [
    "count = {}\n",
    "for index, row in arr.iterrows():\n",
    "    name = row[\"INCIDENTNEIGHBORHOOD\"]\n",
    "    qty = 1\n",
    "    if name in count:\n",
    "        count[name] = count[name]+qty\n",
    "    else:\n",
    "        count[name] = qty\n",
    "print(count)\n"
   ]
  },
  {
   "cell_type": "markdown",
   "id": "b9c1ec69-44f1-46dd-81e1-f41f36903973",
   "metadata": {},
   "source": [
    "__[full list here](https://docs.google.com/document/d/1R1nbctVSxgrlZUJC-xuTfA5c192NnIaROhn-2pDP7bE/edit?usp=sharing)__\n",
    "\n",
    "**The neighborhood with the most arrests is:** \n",
    "South Side Flats - 3497\n",
    "\n",
    "**The neighborhood with the least is:**\n",
    "Central North Side - 23\n",
    "\n",
    "**Some of the more well-known Pittsburgh neighborhoods include:**\n",
    " - South Side - 3497\n",
    " - Carrick - 2352\n",
    " - East Liberty - 1889\n",
    " - Mount Washington - 1434\n",
    " - Hazelwood - 1396\n",
    " - Brookline - 1390\n",
    " - Beechview - 1201\n",
    " - Bloomfield - 984\n",
    " - North Shore - 814\n",
    " - Elliott - 663\n",
    " - Greenfield - 537\n",
    " - Central Oakland - 521\n",
    " - Strip district - 503\n",
    " - Troy Hill - 437\n",
    " - West End - 290\n",
    " - Mount Oliver - 144\n",
    " - Homestead - 39"
   ]
  },
  {
   "cell_type": "markdown",
   "id": "11b2c5c0-af87-4f80-bb23-8e191be0e690",
   "metadata": {},
   "source": [
    "For my code, it creates a list of all of the different neighbohoods in the data table. Then, it adds 1 to the count for each time that the neighborhood is repeated in the table. After that it prints the list out.\n",
    "\n",
    "From the data we can see that the top 5 places with the least arrests are:\n",
    " - Central Northside (23)\n",
    " - Regent Square (37)\n",
    " - Ridgemont (37)\n",
    " - Homestead (39)\n",
    " - Chartiers City (46)\n",
    " - East Carnegie (48)\n",
    " - St. CLair (55)\n",
    " - Golden Triangle/Civic Arena (83)\n",
    " - Allegheny West (130)\n",
    " - Mount Oliver (144)"
   ]
  },
  {
   "cell_type": "code",
   "execution_count": null,
   "id": "30869e62-1d2d-47a3-a1bf-bf5f5007bec4",
   "metadata": {},
   "outputs": [],
   "source": []
  }
 ],
 "metadata": {
  "kernelspec": {
   "display_name": "Python 3 (ipykernel)",
   "language": "python",
   "name": "python3"
  },
  "language_info": {
   "codemirror_mode": {
    "name": "ipython",
    "version": 3
   },
   "file_extension": ".py",
   "mimetype": "text/x-python",
   "name": "python",
   "nbconvert_exporter": "python",
   "pygments_lexer": "ipython3",
   "version": "3.12.4"
  }
 },
 "nbformat": 4,
 "nbformat_minor": 5
}
