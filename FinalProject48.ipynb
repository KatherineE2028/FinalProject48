{
 "cells": [
  {
   "cell_type": "markdown",
   "id": "a705e5a5-6ae3-4ad0-be0d-125b482b25af",
   "metadata": {},
   "source": [
    "## The metric is safety. We are doing this project on safety to determine what neighborhood is the best. Our process was that some of our group members live in or around Pittsburgh. We were wondering what was the best neighborhood and which is the safest and how far it is compared to where we live. We did not explore any other alternatives."
   ]
  },
  {
   "cell_type": "code",
   "execution_count": null,
   "id": "424a2e65-e19c-4352-a01a-58edea73c158",
   "metadata": {},
   "outputs": [],
   "source": []
  }
 ],
 "metadata": {
  "kernelspec": {
   "display_name": "Python 3 (ipykernel)",
   "language": "python",
   "name": "python3"
  },
  "language_info": {
   "codemirror_mode": {
    "name": "ipython",
    "version": 3
   },
   "file_extension": ".py",
   "mimetype": "text/x-python",
   "name": "python",
   "nbconvert_exporter": "python",
   "pygments_lexer": "ipython3",
   "version": "3.12.4"
  }
 },
 "nbformat": 4,
 "nbformat_minor": 5
}
