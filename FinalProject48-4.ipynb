{
 "cells": [
  {
   "cell_type": "markdown",
   "id": "cf0353f6-4670-49ec-93af-7235f3158285",
   "metadata": {},
   "source": [
    "## Introduction:\n",
    "## The metric is safety. We are doing this project on safety to determine what neighborhood is the best. Our process was that some of our group members live in or around Pittsburgh. We were wondering what was the best neighborhood and which is the safest and how far it is compared to where we live. We did not explore any other alternatives."
   ]
  },
  {
   "cell_type": "code",
   "execution_count": 19,
   "id": "50ee86b4-378b-4e00-bcfc-a7a5f7f447fe",
   "metadata": {},
   "outputs": [],
   "source": [
    "import pandas as pd\n",
    "\n",
    "order_data = pd.read_csv(\"PI.tsv\", sep=\"\\t\")\n",
    "order_data['INCIDENTNEIGHBORHOOD']=chip['INCIDENTNEIGHBORHOOD'].replace({'Mt. Oliver Boro':'Mt. Oliver'})\n",
    "order_data['INCIDENTNEIGHBORHOOD']=chip['INCIDENTNEIGHBORHOOD'].replace({'Mount Oliver':'Mt. Oliver'})\n",
    "order_data['INCIDENTNEIGHBORHOOD']=chip['INCIDENTNEIGHBORHOOD'].replace({'Mt. Oliver Neighborhood':'Mt. Oliver'})"
   ]
  },
  {
   "cell_type": "code",
   "execution_count": 20,
   "id": "c131da35-e520-4c30-9fb0-ddbf10988bb1",
   "metadata": {},
   "outputs": [
    {
     "name": "stdout",
     "output_type": "stream",
     "text": [
      "['North Shore' 'Upper Lawrenceville' 'Northview Heights'\n",
      " 'Golden Triangle/Civic Arena' 'South Side Flats' 'Elliott'\n",
      " 'Homewood North' 'South Side Slopes' 'Carrick' 'South Oakland' nan\n",
      " 'Bloomfield' 'Beechview' 'Bluff' 'Strip District' 'Mount Washington'\n",
      " 'East Carnegie' 'Crafton Heights' 'Marshall-Shadeland' 'East Liberty'\n",
      " 'East Allegheny' 'Friendship' 'Arlington' 'Central Northside'\n",
      " 'Spring Hill-City View' 'Brighton Heights' 'Westwood' 'East Hills'\n",
      " 'Brookline' 'South Shore' 'Lower Lawrenceville' 'Bedford Dwellings'\n",
      " 'Troy Hill-Herrs Island' 'Central Oakland' 'Garfield' 'West End'\n",
      " 'West Oakland' 'Central Lawrenceville' 'Lincoln-Lemington-Belmar'\n",
      " 'Sheraden' 'Beltzhoover' 'Outside City' 'Squirrel Hill South'\n",
      " 'North Oakland' 'Allentown' 'Perry North' 'Homewood South' 'Shadyside'\n",
      " 'Manchester' 'Squirrel Hill North' 'Regent Square' 'Homewood West'\n",
      " 'Allegheny Center' 'Highland Park' 'Middle Hill' 'Overbrook' 'Hazelwood'\n",
      " 'Greenfield' 'Morningside' 'Knoxville' 'Point Breeze' 'Duquesne Heights'\n",
      " 'Perry South' 'California-Kirkbride' 'Banksville' 'Point Breeze North'\n",
      " 'Bon Air' 'Polish Hill' 'Lincoln Place' 'Fineview' 'Spring Garden'\n",
      " 'Larimer' 'Esplen' 'Terrace Village' 'Allegheny West' 'Crawford-Roberts'\n",
      " 'Windgap' 'Stanton Heights' 'Glen Hazel' 'Upper Hill' 'Hays' 'Ridgemont'\n",
      " 'Oakwood' 'Outside State' 'Chateau' 'Swisshelm Park' 'Outside County'\n",
      " 'Fairywood' 'Chartiers City' 'Arlington Heights' 'St. Clair'\n",
      " 'Summer Hill' 'Mt. Oliver' 'New Homestead' 'Central Business District'\n",
      " 'Troy Hill' 'Central North Side']\n",
      "96\n"
     ]
    }
   ],
   "source": [
    "print(order_data['INCIDENTNEIGHBORHOOD'].unique())\n",
    "print(order_data['INCIDENTNEIGHBORHOOD'].nunique())"
   ]
  },
  {
   "cell_type": "code",
   "execution_count": 22,
   "id": "549abc42-b256-4378-8af4-42a0507a60b4",
   "metadata": {},
   "outputs": [
    {
     "name": "stdout",
     "output_type": "stream",
     "text": [
      "             INCIDENTNEIGHBORHOOD  INCIDENTTRACT\n",
      "Rank                                            \n",
      "1                           Bluff     103.000000\n",
      "2       Central Business District     201.000000\n",
      "3                  Strip District     203.000000\n",
      "4                Crawford-Roberts     334.823922\n",
      "5                   South Oakland     409.000000\n",
      "6                    West Oakland     467.457795\n",
      "7                 Terrace Village     510.138870\n",
      "8                 Central Oakland     549.130235\n",
      "9               Bedford Dwellings     550.575701\n",
      "10    Golden Triangle/Civic Arena     562.906265\n",
      "11                    Middle Hill     563.428364\n",
      "12                     Upper Hill     576.369807\n",
      "13                  North Oakland     580.901512\n",
      "14                    Polish Hill     650.202925\n",
      "15            Lower Lawrenceville     693.021505\n",
      "16                      Shadyside     749.386527\n",
      "17                     Friendship     895.233333\n",
      "18                     Bloomfield     906.880974\n",
      "19          Central Lawrenceville     972.522235\n",
      "20            Upper Lawrenceville    1011.000000\n",
      "21                    Morningside    1014.000000\n",
      "22                Stanton Heights    1044.553846\n",
      "23                       Garfield    1049.517837\n",
      "24                   East Liberty    1114.467755\n",
      "25                  Highland Park    1142.644016\n",
      "26       Lincoln-Lemington-Belmar    1238.698908\n",
      "27                  Homewood West    1240.206030\n",
      "28                        Larimer    1245.096824\n",
      "29                 Homewood North    1316.640443\n",
      "30                     East Hills    1330.037381\n",
      "31                 Homewood South    1330.048513\n",
      "32            Squirrel Hill North    1413.987769\n",
      "33            Squirrel Hill South    1415.251377\n",
      "34                 Swisshelm Park    1415.776524\n",
      "35                  Regent Square    1420.739823\n",
      "36                   Point Breeze    1423.371949\n",
      "37             Point Breeze North    1428.939440\n",
      "38                     Glen Hazel    1510.182519\n",
      "39                      Hazelwood    1511.167238\n",
      "40                     Greenfield    1516.720339\n",
      "41                      Arlington    1591.869806\n",
      "42              Arlington Heights    1593.319372\n",
      "43                      St. Clair    1599.467275\n",
      "44              South Side Slopes    1658.552857\n",
      "45               South Side Flats    1674.924338\n",
      "46                      Allentown    1784.135596\n",
      "47                        Bon Air    1799.443058\n",
      "48                    Beltzhoover    1809.000000\n",
      "49               Mount Washington    1884.251975\n",
      "50               Duquesne Heights    1911.000000\n",
      "51                      Beechview    1917.644691\n",
      "52                    South Shore    1921.000000\n",
      "53                      Ridgemont    1951.415541\n",
      "54                         Esplen    2017.000000\n",
      "55                       West End    2019.000000\n",
      "56                       Sheraden    2019.485034\n",
      "57                        Elliott    2020.000000\n",
      "58                 Chartiers City    2021.000000\n",
      "59                     Banksville    2023.000000\n",
      "60                     Mt. Oliver    2041.565217\n",
      "61                     Manchester    2107.000000\n",
      "62                        Chateau    2108.000000\n",
      "63                 Allegheny West    2117.014625\n",
      "64                      Brookline    2117.506289\n",
      "65               Allegheny Center    2171.998340\n",
      "66                    North Shore    2174.721835\n",
      "67              Central Northside    2177.909669\n",
      "68             Central North Side    2291.769585\n",
      "69                 East Allegheny    2304.000000\n",
      "70         Troy Hill-Herrs Island    2406.000000\n",
      "71                      Troy Hill    2406.000000\n",
      "72                  Spring Garden    2412.000000\n",
      "73           California-Kirkbride    2507.000000\n",
      "74                       Fineview    2509.000000\n",
      "75              Northview Heights    2530.285017\n",
      "76                    Perry North    2536.244256\n",
      "77                    Summer Hill    2541.003824\n",
      "78                    Perry South    2614.418038\n",
      "79          Spring Hill-City View    2620.000000\n",
      "80               Brighton Heights    2626.085012\n",
      "81                       Westwood    2690.810909\n",
      "82                      Fairywood    2696.893902\n",
      "83                  East Carnegie    2704.002494\n",
      "84             Marshall-Shadeland    2708.859477\n",
      "85                        Oakwood    2709.170111\n",
      "86                        Windgap    2717.520316\n",
      "87                Crafton Heights    2814.296450\n",
      "88                        Carrick    2832.629664\n",
      "89                      Knoxville    2878.881740\n",
      "90                  Lincoln Place    2970.552381\n",
      "91                           Hays    2979.147627\n",
      "92                  New Homestead    2981.011331\n",
      "93                      Overbrook    3205.255393\n",
      "94                   Outside City    5140.196191\n",
      "95                 Outside County    6658.437500\n",
      "96                  Outside State    7754.142145\n"
     ]
    }
   ],
   "source": [
    "import pandas as pd\n",
    "\n",
    "# 1. Load the data\n",
    "order_data = pd.read_csv('PI.tsv', sep='\\t')\n",
    "\n",
    "# 2. fix overlap\n",
    "order_data['INCIDENTNEIGHBORHOOD'] = order_data['INCIDENTNEIGHBORHOOD'].replace({\n",
    "    'Mt. Oliver Boro': 'Mt. Oliver',\n",
    "    'Mount Oliver': 'Mt. Oliver',\n",
    "    'Mt. Oliver Neighborhood': 'Mt. Oliver'\n",
    "})\n",
    "\n",
    "# 3. Convert 'INCIDENTTRACT' to numeric, handling non-numeric values \n",
    "order_data['INCIDENTTRACT'] = pd.to_numeric(order_data['INCIDENTTRACT'], errors='coerce')\n",
    "\n",
    "# 4. Group by 'INCIDENTNEIGHBORHOOD' and calculate the mean of 'INCIDENTTRACT' for each group\n",
    "mean_incidenttract_by_neighborhood = order_data.groupby('INCIDENTNEIGHBORHOOD')['INCIDENTTRACT'].mean()\n",
    "\n",
    "# 5. Sort the results from lowest to highest and reset the index\n",
    "sorted_mean_incidenttract = mean_incidenttract_by_neighborhood.sort_values().reset_index()\n",
    "\n",
    "# 6. Add a numbering column starting from 1\n",
    "sorted_mean_incidenttract.index = sorted_mean_incidenttract.index + 1\n",
    "sorted_mean_incidenttract.index.name = 'Rank'\n",
    "\n",
    "# 7. Set display option to show all rows\n",
    "pd.set_option('display.max_rows', None)\n",
    "\n",
    "# 8. Print the result\n",
    "print(sorted_mean_incidenttract)\n",
    "\n"
   ]
  },
  {
   "cell_type": "code",
   "execution_count": 5,
   "id": "34e2bed3-72d6-4c5f-a5d7-2af9135abb82",
   "metadata": {},
   "outputs": [
    {
     "data": {
      "text/plain": [
       "INCIDENTNEIGHBORHOOD\n",
       "Bluff                          103.000000\n",
       "Central Business District      201.000000\n",
       "Strip District                 203.000000\n",
       "Crawford-Roberts               334.823922\n",
       "South Oakland                  409.000000\n",
       "West Oakland                   467.457795\n",
       "Terrace Village                510.138870\n",
       "Central Oakland                549.130235\n",
       "Bedford Dwellings              550.575701\n",
       "Golden Triangle/Civic Arena    562.906265\n",
       "Name: INCIDENTTRACT, dtype: float64"
      ]
     },
     "execution_count": 5,
     "metadata": {},
     "output_type": "execute_result"
    }
   ],
   "source": [
    "sorted_mean_incidenttract.head(10)"
   ]
  },
  {
   "cell_type": "markdown",
   "id": "6b9e149c-7c97-4305-86b7-67caab6fe5ac",
   "metadata": {},
   "source": [
    "## Individual Conclusiomn\n",
    "## The code presented for this data set loads the data from the PI.tsv, which stands for Police Incidents. Then, Convert 'INCIDENTTRACT' to numeric, handling non-numeric values. The next lines of code group by 'INCIDENTNEIGHBORHOOD' and calculate the mean of 'INCIDENTTRACT' for each group. I also checked and fixed overlaps. Lastly, I displayed, ranked, and printed the results and reprinted the top ten safest neighborhoods with the least incidents. Based off the mean from each neighborhood, my anaylsis is that the safest neighborhood is Bluff with an average 103 police incidents. In second, the Central Business District with an average of 201 police incidents. The third safest neighborhood based off police incidents is Strip District with an average of 203. The rest of the top ten are displayed above."
   ]
  },
  {
   "cell_type": "code",
   "execution_count": null,
   "id": "bdc08f03-4049-41c9-8a01-be9313e72ad4",
   "metadata": {},
   "outputs": [],
   "source": []
  }
 ],
 "metadata": {
  "kernelspec": {
   "display_name": "Python 3 (ipykernel)",
   "language": "python",
   "name": "python3"
  },
  "language_info": {
   "codemirror_mode": {
    "name": "ipython",
    "version": 3
   },
   "file_extension": ".py",
   "mimetype": "text/x-python",
   "name": "python",
   "nbconvert_exporter": "python",
   "pygments_lexer": "ipython3",
   "version": "3.12.4"
  }
 },
 "nbformat": 4,
 "nbformat_minor": 5
}
