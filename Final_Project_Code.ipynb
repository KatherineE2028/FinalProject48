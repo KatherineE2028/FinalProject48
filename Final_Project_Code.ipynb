{
 "cells": [
  {
   "cell_type": "code",
   "execution_count": 184,
   "id": "f469d8fb-8bf4-4378-9bed-8192b9a9586e",
   "metadata": {},
   "outputs": [
    {
     "name": "stdout",
     "output_type": "stream",
     "text": [
      "neighborhood\n",
      "Homewood South               21.666667\n",
      "Hazelwood                    21.666667\n",
      "South Side Slopes            24.375000\n",
      "Allegheny Center             25.000000\n",
      "Marshall-Shadeland           25.000000\n",
      "Middle Hill                  25.000000\n",
      "Morningside                  25.000000\n",
      "Mount Washington             25.000000\n",
      "New Homestead                25.000000\n",
      "North Shore                  25.000000\n",
      "Overbrook                    25.000000\n",
      "Point Breeze                 25.000000\n",
      "Point Breeze North           25.000000\n",
      "Polish Hill                  25.000000\n",
      "Regent Square                25.000000\n",
      "Shadyside                    25.000000\n",
      "Sheraden                     25.000000\n",
      "South Shore                  25.000000\n",
      "South Side Flats             25.000000\n",
      "Spring Hill-City View        25.000000\n",
      "Squirrel Hill North          25.000000\n",
      "Squirrel Hill South          25.000000\n",
      "St. Clair                    25.000000\n",
      "Stanton Heights              25.000000\n",
      "Strip District               25.000000\n",
      "Summer Hill                  25.000000\n",
      "Upper Hill                   25.000000\n",
      "West Oakland                 25.000000\n",
      "Manchester                   25.000000\n",
      "Lower Lawrenceville          25.000000\n",
      "Lincoln-Lemington-Belmar     25.000000\n",
      "Crawford-Roberts             25.000000\n",
      "Beechview                    25.000000\n",
      "Brookline                    25.000000\n",
      "California-Kirkbride         25.000000\n",
      "Carrick                      25.000000\n",
      "Central Business District    25.000000\n",
      "Central Lawrenceville        25.000000\n",
      "Central Northside            25.000000\n",
      "Central Oakland              25.000000\n",
      "Crafton Heights              25.000000\n",
      "Lincoln Place                25.000000\n",
      "Duquesne Heights             25.000000\n",
      "East Allegheny               25.000000\n",
      "East Hills                   25.000000\n",
      "Arlington                    25.000000\n",
      "East Liberty                 25.000000\n",
      "Elliott                      25.000000\n",
      "Allegheny West               25.000000\n",
      "Fineview                     25.000000\n",
      "Friendship                   25.000000\n",
      "Greenfield                   25.000000\n",
      "Highland Park                25.000000\n",
      "Homewood North               25.000000\n",
      "Knoxville                    25.000000\n",
      "Larimer                      25.000000\n",
      "Bluff                        25.000000\n",
      "Perry North                  26.428571\n",
      "Bloomfield                   27.727273\n",
      "Windgap                      28.333333\n",
      "Perry South                  28.333333\n",
      "North Oakland                30.000000\n",
      "Brighton Heights             30.000000\n",
      "Westwood                     31.666667\n",
      "Name: speed_limit, dtype: float64\n"
     ]
    }
   ],
   "source": [
    "import pandas as pd\n",
    "speed = pd.read_csv(\"Speed.tsv\", sep=\"\\t\")\n",
    "speed['speed_limit'] = pd.to_numeric(speed['speed_limit'], errors='coerce')\n",
    "mean_speed = speed.groupby('neighborhood')['speed_limit'].mean()\n",
    "sorted_mean_speed = mean_speed.sort_values()\n",
    "sorted_mean_speed = sorted_mean_speed.dropna()\n",
    "pd.set_option('display.max_rows', None)\n",
    "print((sorted_mean_speed))"
   ]
  },
  {
   "cell_type": "code",
   "execution_count": null,
   "id": "4f546ba2-8355-420f-a78b-f28ce4ef2a4f",
   "metadata": {},
   "outputs": [],
   "source": []
  }
 ],
 "metadata": {
  "kernelspec": {
   "display_name": "Python 3 (ipykernel)",
   "language": "python",
   "name": "python3"
  },
  "language_info": {
   "codemirror_mode": {
    "name": "ipython",
    "version": 3
   },
   "file_extension": ".py",
   "mimetype": "text/x-python",
   "name": "python",
   "nbconvert_exporter": "python",
   "pygments_lexer": "ipython3",
   "version": "3.12.4"
  }
 },
 "nbformat": 4,
 "nbformat_minor": 5
}
