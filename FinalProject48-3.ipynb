{
 "cells": [
  {
   "cell_type": "markdown",
   "id": "cf0353f6-4670-49ec-93af-7235f3158285",
   "metadata": {},
   "source": [
    "## Introduction:\n",
    "## The metric is safety. We are doing this project on safety to determine what neighborhood is the best. Our process was that some of our group members live in or around Pittsburgh. We were wondering what was the best neighborhood and which is the safest and how far it is compared to where we live. We did not explore any other alternatives."
   ]
  },
  {
   "cell_type": "code",
   "execution_count": 19,
   "id": "50ee86b4-378b-4e00-bcfc-a7a5f7f447fe",
   "metadata": {},
   "outputs": [],
   "source": [
    "import pandas as pd\n",
    "\n",
    "order_data = pd.read_csv(\"PI.tsv\", sep=\"\\t\")\n",
    "order_data['INCIDENTNEIGHBORHOOD']=chip['INCIDENTNEIGHBORHOOD'].replace({'Mt. Oliver Boro':'Mt. Oliver'})\n",
    "order_data['INCIDENTNEIGHBORHOOD']=chip['INCIDENTNEIGHBORHOOD'].replace({'Mount Oliver':'Mt. Oliver'})\n",
    "order_data['INCIDENTNEIGHBORHOOD']=chip['INCIDENTNEIGHBORHOOD'].replace({'Mt. Oliver Neighborhood':'Mt. Oliver'})"
   ]
  },
  {
   "cell_type": "code",
   "execution_count": 20,
   "id": "c131da35-e520-4c30-9fb0-ddbf10988bb1",
   "metadata": {},
   "outputs": [
    {
     "name": "stdout",
     "output_type": "stream",
     "text": [
      "['North Shore' 'Upper Lawrenceville' 'Northview Heights'\n",
      " 'Golden Triangle/Civic Arena' 'South Side Flats' 'Elliott'\n",
      " 'Homewood North' 'South Side Slopes' 'Carrick' 'South Oakland' nan\n",
      " 'Bloomfield' 'Beechview' 'Bluff' 'Strip District' 'Mount Washington'\n",
      " 'East Carnegie' 'Crafton Heights' 'Marshall-Shadeland' 'East Liberty'\n",
      " 'East Allegheny' 'Friendship' 'Arlington' 'Central Northside'\n",
      " 'Spring Hill-City View' 'Brighton Heights' 'Westwood' 'East Hills'\n",
      " 'Brookline' 'South Shore' 'Lower Lawrenceville' 'Bedford Dwellings'\n",
      " 'Troy Hill-Herrs Island' 'Central Oakland' 'Garfield' 'West End'\n",
      " 'West Oakland' 'Central Lawrenceville' 'Lincoln-Lemington-Belmar'\n",
      " 'Sheraden' 'Beltzhoover' 'Outside City' 'Squirrel Hill South'\n",
      " 'North Oakland' 'Allentown' 'Perry North' 'Homewood South' 'Shadyside'\n",
      " 'Manchester' 'Squirrel Hill North' 'Regent Square' 'Homewood West'\n",
      " 'Allegheny Center' 'Highland Park' 'Middle Hill' 'Overbrook' 'Hazelwood'\n",
      " 'Greenfield' 'Morningside' 'Knoxville' 'Point Breeze' 'Duquesne Heights'\n",
      " 'Perry South' 'California-Kirkbride' 'Banksville' 'Point Breeze North'\n",
      " 'Bon Air' 'Polish Hill' 'Lincoln Place' 'Fineview' 'Spring Garden'\n",
      " 'Larimer' 'Esplen' 'Terrace Village' 'Allegheny West' 'Crawford-Roberts'\n",
      " 'Windgap' 'Stanton Heights' 'Glen Hazel' 'Upper Hill' 'Hays' 'Ridgemont'\n",
      " 'Oakwood' 'Outside State' 'Chateau' 'Swisshelm Park' 'Outside County'\n",
      " 'Fairywood' 'Chartiers City' 'Arlington Heights' 'St. Clair'\n",
      " 'Summer Hill' 'Mt. Oliver' 'New Homestead' 'Central Business District'\n",
      " 'Troy Hill' 'Central North Side']\n",
      "96\n"
     ]
    }
   ],
   "source": [
    "print(order_data['INCIDENTNEIGHBORHOOD'].unique())\n",
    "print(order_data['INCIDENTNEIGHBORHOOD'].nunique())"
   ]
  },
  {
   "cell_type": "code",
   "execution_count": 21,
   "id": "549abc42-b256-4378-8af4-42a0507a60b4",
   "metadata": {},
   "outputs": [
    {
     "name": "stdout",
     "output_type": "stream",
     "text": [
      "INCIDENTNEIGHBORHOOD\n",
      "Bluff                           103.000000\n",
      "Central Business District       201.000000\n",
      "Strip District                  203.000000\n",
      "Crawford-Roberts                334.823922\n",
      "South Oakland                   409.000000\n",
      "West Oakland                    467.457795\n",
      "Terrace Village                 510.138870\n",
      "Central Oakland                 549.130235\n",
      "Bedford Dwellings               550.575701\n",
      "Golden Triangle/Civic Arena     562.906265\n",
      "Middle Hill                     563.428364\n",
      "Upper Hill                      576.369807\n",
      "North Oakland                   580.901512\n",
      "Polish Hill                     650.202925\n",
      "Lower Lawrenceville             693.021505\n",
      "Shadyside                       749.386527\n",
      "Friendship                      895.233333\n",
      "Bloomfield                      906.880974\n",
      "Central Lawrenceville           972.522235\n",
      "Upper Lawrenceville            1011.000000\n",
      "Morningside                    1014.000000\n",
      "Stanton Heights                1044.553846\n",
      "Garfield                       1049.517837\n",
      "East Liberty                   1114.467755\n",
      "Highland Park                  1142.644016\n",
      "Lincoln-Lemington-Belmar       1238.698908\n",
      "Homewood West                  1240.206030\n",
      "Larimer                        1245.096824\n",
      "Homewood North                 1316.640443\n",
      "East Hills                     1330.037381\n",
      "Homewood South                 1330.048513\n",
      "Squirrel Hill North            1413.987769\n",
      "Squirrel Hill South            1415.251377\n",
      "Swisshelm Park                 1415.776524\n",
      "Regent Square                  1420.739823\n",
      "Point Breeze                   1423.371949\n",
      "Point Breeze North             1428.939440\n",
      "Glen Hazel                     1510.182519\n",
      "Hazelwood                      1511.167238\n",
      "Greenfield                     1516.720339\n",
      "Arlington                      1591.869806\n",
      "Arlington Heights              1593.319372\n",
      "St. Clair                      1599.467275\n",
      "South Side Slopes              1658.552857\n",
      "South Side Flats               1674.924338\n",
      "Allentown                      1784.135596\n",
      "Bon Air                        1799.443058\n",
      "Beltzhoover                    1809.000000\n",
      "Mount Washington               1884.251975\n",
      "Duquesne Heights               1911.000000\n",
      "Beechview                      1917.644691\n",
      "South Shore                    1921.000000\n",
      "Ridgemont                      1951.415541\n",
      "Esplen                         2017.000000\n",
      "West End                       2019.000000\n",
      "Sheraden                       2019.485034\n",
      "Elliott                        2020.000000\n",
      "Chartiers City                 2021.000000\n",
      "Banksville                     2023.000000\n",
      "Mt. Oliver                     2041.565217\n",
      "Manchester                     2107.000000\n",
      "Chateau                        2108.000000\n",
      "Allegheny West                 2117.014625\n",
      "Brookline                      2117.506289\n",
      "Allegheny Center               2171.998340\n",
      "North Shore                    2174.721835\n",
      "Central Northside              2177.909669\n",
      "Central North Side             2291.769585\n",
      "East Allegheny                 2304.000000\n",
      "Troy Hill-Herrs Island         2406.000000\n",
      "Troy Hill                      2406.000000\n",
      "Spring Garden                  2412.000000\n",
      "California-Kirkbride           2507.000000\n",
      "Fineview                       2509.000000\n",
      "Northview Heights              2530.285017\n",
      "Perry North                    2536.244256\n",
      "Summer Hill                    2541.003824\n",
      "Perry South                    2614.418038\n",
      "Spring Hill-City View          2620.000000\n",
      "Brighton Heights               2626.085012\n",
      "Westwood                       2690.810909\n",
      "Fairywood                      2696.893902\n",
      "East Carnegie                  2704.002494\n",
      "Marshall-Shadeland             2708.859477\n",
      "Oakwood                        2709.170111\n",
      "Windgap                        2717.520316\n",
      "Crafton Heights                2814.296450\n",
      "Carrick                        2832.629664\n",
      "Knoxville                      2878.881740\n",
      "Lincoln Place                  2970.552381\n",
      "Hays                           2979.147627\n",
      "New Homestead                  2981.011331\n",
      "Overbrook                      3205.255393\n",
      "Outside City                   5140.196191\n",
      "Outside County                 6658.437500\n",
      "Outside State                  7754.142145\n",
      "Name: INCIDENTTRACT, dtype: float64\n"
     ]
    }
   ],
   "source": [
    "import pandas as pd\n",
    "\n",
    "# Load the data\n",
    "order_data = pd.read_csv('PI.tsv', sep='\\t')\n",
    "order_data['INCIDENTNEIGHBORHOOD']=chip['INCIDENTNEIGHBORHOOD'].replace({'Mt. Oliver Boro':'Mt. Oliver'})\n",
    "order_data['INCIDENTNEIGHBORHOOD']=chip['INCIDENTNEIGHBORHOOD'].replace({'Mount Oliver':'Mt. Oliver'})\n",
    "order_data['INCIDENTNEIGHBORHOOD']=chip['INCIDENTNEIGHBORHOOD'].replace({'Mt. Oliver Neighborhood':'Mt. Oliver'})\n",
    "\n",
    "# Convert 'INCIDENTTRACT' to numeric, handling non-numeric values as NaN\n",
    "order_data['INCIDENTTRACT'] = pd.to_numeric(order_data['INCIDENTTRACT'], errors='coerce')\n",
    "\n",
    "# Group by 'INCIDENTNEIGHBORHOOD' and calculate the mean of 'INCIDENTTRACT' for each group\n",
    "mean_incidenttract_by_neighborhood = order_data.groupby('INCIDENTNEIGHBORHOOD')['INCIDENTTRACT'].mean()\n",
    "\n",
    "# Sort the results from lowest to highest\n",
    "sorted_mean_incidenttract = mean_incidenttract_by_neighborhood.sort_values()\n",
    "\n",
    "# Display the result\n",
    "mean_incidenttract_by_neighborhood\n",
    "# To ensure all rows are displayed, set pandas display option\n",
    "pd.set_option('display.max_rows', None)\n",
    "\n",
    "# Print the result\n",
    "print(sorted_mean_incidenttract)\n"
   ]
  },
  {
   "cell_type": "code",
   "execution_count": 5,
   "id": "34e2bed3-72d6-4c5f-a5d7-2af9135abb82",
   "metadata": {},
   "outputs": [
    {
     "data": {
      "text/plain": [
       "INCIDENTNEIGHBORHOOD\n",
       "Bluff                          103.000000\n",
       "Central Business District      201.000000\n",
       "Strip District                 203.000000\n",
       "Crawford-Roberts               334.823922\n",
       "South Oakland                  409.000000\n",
       "West Oakland                   467.457795\n",
       "Terrace Village                510.138870\n",
       "Central Oakland                549.130235\n",
       "Bedford Dwellings              550.575701\n",
       "Golden Triangle/Civic Arena    562.906265\n",
       "Name: INCIDENTTRACT, dtype: float64"
      ]
     },
     "execution_count": 5,
     "metadata": {},
     "output_type": "execute_result"
    }
   ],
   "source": [
    "sorted_mean_incidenttract.head(10)"
   ]
  },
  {
   "cell_type": "markdown",
   "id": "6b9e149c-7c97-4305-86b7-67caab6fe5ac",
   "metadata": {},
   "source": [
    "## Individual Conclusiomn\n",
    "## The code presented for this data set loads the data from the PI.tsv, which stands for Police Incidents. Then, Convert 'INCIDENTTRACT' to numeric, handling non-numeric values. The next lines of code group by 'INCIDENTNEIGHBORHOOD' and calculate the mean of 'INCIDENTTRACT' for each group. I also checked and fixed overlaps. Lastly, I displayed and printed the results and reprinted the top ten safest neighborhoods with the least incidents. Based off the mean from each neighborhood, my anaylsis is that the safest neighborhood is Bluff with an average 103 police incidents. In second, the Central Business District with an average of 201 police incidents. The third safest neighborhood based off police incidents is Strip District with an average of 203. The rest of the top ten are displayed above."
   ]
  },
  {
   "cell_type": "code",
   "execution_count": null,
   "id": "bdc08f03-4049-41c9-8a01-be9313e72ad4",
   "metadata": {},
   "outputs": [],
   "source": []
  }
 ],
 "metadata": {
  "kernelspec": {
   "display_name": "Python 3 (ipykernel)",
   "language": "python",
   "name": "python3"
  },
  "language_info": {
   "codemirror_mode": {
    "name": "ipython",
    "version": 3
   },
   "file_extension": ".py",
   "mimetype": "text/x-python",
   "name": "python",
   "nbconvert_exporter": "python",
   "pygments_lexer": "ipython3",
   "version": "3.12.4"
  }
 },
 "nbformat": 4,
 "nbformat_minor": 5
}
