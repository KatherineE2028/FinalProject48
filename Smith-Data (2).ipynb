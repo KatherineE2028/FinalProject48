{
 "cells": [
  {
   "cell_type": "code",
   "execution_count": 8,
   "id": "e504d1e1-191c-4257-a59e-a448a2b97c2b",
   "metadata": {},
   "outputs": [],
   "source": [
    "import pandas as pd\n",
    "arr = pd.read_csv(\"arrestdata.tsv\", sep=\"\\t\")"
   ]
  },
  {
   "cell_type": "code",
   "execution_count": 10,
   "id": "626be582-931c-457b-b443-de26f02325c1",
   "metadata": {
    "scrolled": true
   },
   "outputs": [
    {
     "name": "stdout",
     "output_type": "stream",
     "text": [
      "{'Bloomfield': 984, 'Outside City': 316, 'Westwood': 226, 'East Allegheny': 2217, 'Crafton Heights': 601, 'Greenfield': 537, 'Brookline': 1390, 'Regent Square': 37, 'East Liberty': 1889, nan: 2489, 'East Hills': 1194, 'Carrick': 2352, 'Allegheny Center': 1244, 'South Side Flats': 3497, 'Sheraden': 1285, 'East Carnegie': 48, 'Golden Triangle/Civic Arena': 83, 'Point Breeze North': 289, 'Perry South': 1057, 'Allentown': 947, 'North Shore': 814, 'Marshall-Shadeland': 1516, 'Central Oakland': 521, 'Middle Hill': 932, 'Strip District': 503, 'Lincoln-Lemington-Belmar': 1362, 'Central Northside': 23, 'Troy Hill-Herrs Island': 6, 'Highland Park': 558, 'Homewood North': 1969, 'Northview Heights': 713, 'Brighton Heights': 1114, 'Hazelwood': 1396, 'Perry North': 587, 'Bedford Dwellings': 665, 'Elliott': 663, 'Beechview': 1201, 'Fineview': 796, 'Glen Hazel': 169, 'Spring Hill-City View': 711, 'Bluff': 1502, 'Manchester': 471, 'Homewood West': 764, 'Outside County': 57, 'Point Breeze': 301, 'Homewood South': 2090, 'Squirrel Hill South': 812, 'Terrace Village': 297, 'Upper Lawrenceville': 189, 'Arlington': 312, 'South Side Slopes': 801, 'Lower Lawrenceville': 272, 'Garfield': 722, 'Lincoln Place': 227, 'Larimer': 879, 'Mount Washington': 1434, 'California-Kirkbride': 315, 'Banksville': 291, 'Bon Air': 267, 'South Shore': 301, 'Beltzhoover': 496, 'Knoxville': 1336, 'Chateau': 454, 'Crawford-Roberts': 839, 'Polish Hill': 166, 'Fairywood': 127, 'West End': 290, 'Shadyside': 971, 'Morningside': 188, 'Overbrook': 331, 'Friendship': 174, 'North Oakland': 455, 'Central Lawrenceville': 431, 'Oakwood': 82, 'Upper Hill': 370, 'South Oakland': 354, 'West Oakland': 325, 'Spring Garden': 219, 'Allegheny West': 130, 'St. Clair': 55, 'Stanton Heights': 223, 'Esplen': 200, 'Squirrel Hill North': 290, 'Mt. Oliver Neighborhood': 2, 'Summer Hill': 76, 'Arlington Heights': 155, 'Troy Hill': 437, 'Central Business District': 4440, 'Central North Side': 853, 'Mount Oliver': 124, 'Windgap': 124, 'Outside State': 67, 'Duquesne Heights': 191, 'New Homestead': 39, 'Ridgemont': 37, 'Swisshelm Park': 43, 'Hays': 120, 'Chartiers City': 46, 'Mt. Oliver Boro': 18}\n"
     ]
    }
   ],
   "source": [
    "count = {}\n",
    "for index, row in arr.iterrows():\n",
    "    name = row[\"INCIDENTNEIGHBORHOOD\"]\n",
    "    qty = 1\n",
    "    if name in count:\n",
    "        count[name] = count[name]+qty\n",
    "    else:\n",
    "        count[name] = qty\n",
    "\n",
    "print(count)\n"
   ]
  },
  {
   "cell_type": "code",
   "execution_count": 33,
   "id": "43176b2b-a053-42bb-8c44-564330149a3c",
   "metadata": {},
   "outputs": [
    {
     "name": "stdout",
     "output_type": "stream",
     "text": [
      "           INCIDENTNEIGHBORHOOD  Count\n",
      "0        Troy Hill-Herrs Island      6\n",
      "1                   Mt. Oliver      18\n",
      "2             Central Northside     23\n",
      "3                     Ridgemont     37\n",
      "4                 Regent Square     37\n",
      "5                 New Homestead     39\n",
      "6                Swisshelm Park     43\n",
      "7                Chartiers City     46\n",
      "8                 East Carnegie     48\n",
      "9                     St. Clair     55\n",
      "10               Outside County     57\n",
      "11                Outside State     67\n",
      "12                  Summer Hill     76\n",
      "13                      Oakwood     82\n",
      "14  Golden Triangle/Civic Arena     83\n",
      "15                         Hays    120\n",
      "16                      Windgap    124\n",
      "17                   Mt. Oliver    126\n",
      "18                    Fairywood    127\n",
      "19               Allegheny West    130\n",
      "20            Arlington Heights    155\n",
      "21                  Polish Hill    166\n",
      "22                   Glen Hazel    169\n",
      "23                   Friendship    174\n",
      "24                  Morningside    188\n",
      "25          Upper Lawrenceville    189\n",
      "26             Duquesne Heights    191\n",
      "27                       Esplen    200\n",
      "28                Spring Garden    219\n",
      "29              Stanton Heights    223\n",
      "30                     Westwood    226\n",
      "31                Lincoln Place    227\n",
      "32                      Bon Air    267\n",
      "33          Lower Lawrenceville    272\n",
      "34           Point Breeze North    289\n",
      "35                     West End    290\n",
      "36          Squirrel Hill North    290\n",
      "37                   Banksville    291\n",
      "38              Terrace Village    297\n",
      "39                 Point Breeze    301\n",
      "40                  South Shore    301\n",
      "41                    Arlington    312\n",
      "42         California-Kirkbride    315\n",
      "43                 Outside City    316\n",
      "44                 West Oakland    325\n",
      "45                    Overbrook    331\n",
      "46                South Oakland    354\n",
      "47                   Upper Hill    370\n",
      "48        Central Lawrenceville    431\n",
      "49                    Troy Hill    437\n",
      "50                      Chateau    454\n",
      "51                North Oakland    455\n",
      "52                   Manchester    471\n",
      "53                  Beltzhoover    496\n",
      "54               Strip District    503\n",
      "55              Central Oakland    521\n",
      "56                   Greenfield    537\n",
      "57                Highland Park    558\n",
      "58                  Perry North    587\n",
      "59              Crafton Heights    601\n",
      "60                      Elliott    663\n",
      "61            Bedford Dwellings    665\n",
      "62        Spring Hill-City View    711\n",
      "63            Northview Heights    713\n",
      "64                     Garfield    722\n",
      "65                Homewood West    764\n",
      "66                     Fineview    796\n",
      "67            South Side Slopes    801\n",
      "68          Squirrel Hill South    812\n",
      "69                  North Shore    814\n",
      "70             Crawford-Roberts    839\n",
      "71           Central North Side    853\n",
      "72                      Larimer    879\n",
      "73                  Middle Hill    932\n",
      "74                    Allentown    947\n",
      "75                    Shadyside    971\n",
      "76                   Bloomfield    984\n",
      "77                  Perry South   1057\n",
      "78             Brighton Heights   1114\n",
      "79                   East Hills   1194\n",
      "80                    Beechview   1201\n",
      "81             Allegheny Center   1244\n",
      "82                     Sheraden   1285\n",
      "83                    Knoxville   1336\n",
      "84     Lincoln-Lemington-Belmar   1362\n",
      "85                    Brookline   1390\n",
      "86                    Hazelwood   1396\n",
      "87             Mount Washington   1434\n",
      "88                        Bluff   1502\n",
      "89           Marshall-Shadeland   1516\n",
      "90                 East Liberty   1889\n",
      "91               Homewood North   1969\n",
      "92               Homewood South   2090\n",
      "93               East Allegheny   2217\n",
      "94                      Carrick   2352\n",
      "95             South Side Flats   3497\n",
      "96    Central Business District   4440\n"
     ]
    }
   ],
   "source": [
    "arr['INCIDENTNEIGHBORHOOD'] = arr['INCIDENTNEIGHBORHOOD'].replace({'Mt. Oliver Boro' : 'Mt. Oliver'})\n",
    "arr['INCIDENTNEIGHBORHOOD'] = arr['INCIDENTNEIGHBORHOOD'].replace({'Mt. Oliver Neighborhood' : 'Mt. Oliver'})\n",
    "arr['INCIDENTNEIGHBORHOOD'] = arr['INCIDENTNEIGHBORHOOD'].replace({'Mount Oliver' : 'Mt. Oliver'})\n",
    "neighborhood_counts = arr['INCIDENTNEIGHBORHOOD'].value_counts().sort_values()\n",
    "neighborhood_counts_df = neighborhood_counts.reset_index()\n",
    "neighborhood_counts_df.columns = ['INCIDENTNEIGHBORHOOD', 'Count']\n",
    "pd.set_option('display.max_rows',None)\n",
    "print(neighborhood_counts_df)"
   ]
  },
  {
   "cell_type": "markdown",
   "id": "11b2c5c0-af87-4f80-bb23-8e191be0e690",
   "metadata": {},
   "source": [
    "From the data we can see that the top 5 places with the least arrests are:\n",
    " - Central Northside (23)\n",
    " - Regent Square (37)\n",
    " - Ridgemont (37)\n",
    " - Homestead (39)\n",
    " - Chartiers City (46)\n",
    " - East Carnegie (48)\n",
    " - St. CLair (55)\n",
    " - Golden Triangle/Civic Arena (83)\n",
    " - Allegheny West (130)\n",
    " - Mount Oliver (144)\n",
    "\n",
    "\n",
    "In my code, first I created a list to keep track of all neighborhoods and the amount of arrests there were. Then, I made a loop that goes through each individual piece of the data and keeps track of that neighborhood. If the neighborhood is not in the list yet, it adds the name of the neighborhood to the list and makes the count for arrests there 1. If it already is in the list then the count for that neighborhood goes up by 1. It does this throughout the entire data table, thus giving us the final results. I then printed the list so that we could see these results. Based on the data, we can see that the 'safest' neighborhood is Central Northside, followed by a tie between Regent Square and Ridgemont."
   ]
  }
 ],
 "metadata": {
  "kernelspec": {
   "display_name": "Python 3 (ipykernel)",
   "language": "python",
   "name": "python3"
  },
  "language_info": {
   "codemirror_mode": {
    "name": "ipython",
    "version": 3
   },
   "file_extension": ".py",
   "mimetype": "text/x-python",
   "name": "python",
   "nbconvert_exporter": "python",
   "pygments_lexer": "ipython3",
   "version": "3.12.4"
  }
 },
 "nbformat": 4,
 "nbformat_minor": 5
}
